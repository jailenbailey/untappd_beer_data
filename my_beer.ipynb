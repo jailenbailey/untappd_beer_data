{
 "cells": [
  {
   "cell_type": "code",
   "execution_count": 336,
   "metadata": {},
   "outputs": [],
   "source": [
    "# Imports\n",
    "import numpy as np\n",
    "import pandas as pd\n",
    "import seaborn as sns\n",
    "from datetime import datetime\n",
    "import plotly.graph_objs as go\n",
    "from matplotlib import pyplot as plt\n",
    "from sklearn.ensemble import IsolationForest\n",
    "from sklearn.preprocessing import MinMaxScaler"
   ]
  },
  {
   "cell_type": "code",
   "execution_count": 337,
   "metadata": {},
   "outputs": [
    {
     "name": "stdout",
     "output_type": "stream",
     "text": [
      "Index(['beer_name', 'brewery_name', 'beer_type', 'beer_abv', 'beer_ibu',\n",
      "       'comment', 'venue_name', 'venue_city', 'venue_state', 'venue_country',\n",
      "       'venue_lat', 'venue_lng', 'rating_score', 'created_at', 'checkin_url',\n",
      "       'beer_url', 'brewery_url', 'brewery_country', 'brewery_city',\n",
      "       'brewery_state', 'flavor_profiles', 'purchase_venue', 'serving_type',\n",
      "       'checkin_id', 'bid', 'brewery_id', 'photo_url', 'global_rating_score',\n",
      "       'global_weighted_rating_score', 'tagged_friends', 'total_toasts',\n",
      "       'total_comments'],\n",
      "      dtype='object')\n"
     ]
    },
    {
     "data": {
      "text/html": [
       "<div>\n",
       "<style scoped>\n",
       "    .dataframe tbody tr th:only-of-type {\n",
       "        vertical-align: middle;\n",
       "    }\n",
       "\n",
       "    .dataframe tbody tr th {\n",
       "        vertical-align: top;\n",
       "    }\n",
       "\n",
       "    .dataframe thead th {\n",
       "        text-align: right;\n",
       "    }\n",
       "</style>\n",
       "<table border=\"1\" class=\"dataframe\">\n",
       "  <thead>\n",
       "    <tr style=\"text-align: right;\">\n",
       "      <th></th>\n",
       "      <th>beer_name</th>\n",
       "      <th>brewery_name</th>\n",
       "      <th>beer_type</th>\n",
       "      <th>beer_abv</th>\n",
       "      <th>beer_ibu</th>\n",
       "      <th>comment</th>\n",
       "      <th>venue_name</th>\n",
       "      <th>venue_city</th>\n",
       "      <th>venue_state</th>\n",
       "      <th>venue_country</th>\n",
       "      <th>...</th>\n",
       "      <th>serving_type</th>\n",
       "      <th>checkin_id</th>\n",
       "      <th>bid</th>\n",
       "      <th>brewery_id</th>\n",
       "      <th>photo_url</th>\n",
       "      <th>global_rating_score</th>\n",
       "      <th>global_weighted_rating_score</th>\n",
       "      <th>tagged_friends</th>\n",
       "      <th>total_toasts</th>\n",
       "      <th>total_comments</th>\n",
       "    </tr>\n",
       "  </thead>\n",
       "  <tbody>\n",
       "    <tr>\n",
       "      <th>0</th>\n",
       "      <td>Delirium Tremens</td>\n",
       "      <td>Delirium - Huyghe Brewery</td>\n",
       "      <td>Belgian Strong Golden Ale</td>\n",
       "      <td>8.5</td>\n",
       "      <td>24</td>\n",
       "      <td>A solid beer that would be easy to drink exclu...</td>\n",
       "      <td>NaN</td>\n",
       "      <td>NaN</td>\n",
       "      <td>NaN</td>\n",
       "      <td>NaN</td>\n",
       "      <td>...</td>\n",
       "      <td>Draft</td>\n",
       "      <td>921065799</td>\n",
       "      <td>4485</td>\n",
       "      <td>285</td>\n",
       "      <td>NaN</td>\n",
       "      <td>3.87</td>\n",
       "      <td>3.87</td>\n",
       "      <td>NaN</td>\n",
       "      <td>0</td>\n",
       "      <td>0</td>\n",
       "    </tr>\n",
       "    <tr>\n",
       "      <th>1</th>\n",
       "      <td>Delirium Nocturnum</td>\n",
       "      <td>Delirium - Huyghe Brewery</td>\n",
       "      <td>Belgian Strong Dark Ale</td>\n",
       "      <td>8.5</td>\n",
       "      <td>24</td>\n",
       "      <td>A darker beer from the Delirium brand. Would b...</td>\n",
       "      <td>NaN</td>\n",
       "      <td>NaN</td>\n",
       "      <td>NaN</td>\n",
       "      <td>NaN</td>\n",
       "      <td>...</td>\n",
       "      <td>Bottle</td>\n",
       "      <td>921066266</td>\n",
       "      <td>4486</td>\n",
       "      <td>285</td>\n",
       "      <td>NaN</td>\n",
       "      <td>3.78</td>\n",
       "      <td>3.78</td>\n",
       "      <td>NaN</td>\n",
       "      <td>0</td>\n",
       "      <td>0</td>\n",
       "    </tr>\n",
       "    <tr>\n",
       "      <th>2</th>\n",
       "      <td>La Guillotine</td>\n",
       "      <td>Delirium - Huyghe Brewery</td>\n",
       "      <td>Belgian Strong Golden Ale</td>\n",
       "      <td>8.5</td>\n",
       "      <td>0</td>\n",
       "      <td>A very good brew. It is quite strong, which gi...</td>\n",
       "      <td>NaN</td>\n",
       "      <td>NaN</td>\n",
       "      <td>NaN</td>\n",
       "      <td>NaN</td>\n",
       "      <td>...</td>\n",
       "      <td>Draft</td>\n",
       "      <td>921066913</td>\n",
       "      <td>26907</td>\n",
       "      <td>285</td>\n",
       "      <td>NaN</td>\n",
       "      <td>3.58</td>\n",
       "      <td>3.58</td>\n",
       "      <td>NaN</td>\n",
       "      <td>0</td>\n",
       "      <td>0</td>\n",
       "    </tr>\n",
       "    <tr>\n",
       "      <th>3</th>\n",
       "      <td>Hanalei Island IPA</td>\n",
       "      <td>Kona Brewing Company</td>\n",
       "      <td>IPA - Session</td>\n",
       "      <td>4.5</td>\n",
       "      <td>40</td>\n",
       "      <td>NaN</td>\n",
       "      <td>NaN</td>\n",
       "      <td>NaN</td>\n",
       "      <td>NaN</td>\n",
       "      <td>NaN</td>\n",
       "      <td>...</td>\n",
       "      <td>Bottle</td>\n",
       "      <td>921067292</td>\n",
       "      <td>1604713</td>\n",
       "      <td>1988</td>\n",
       "      <td>NaN</td>\n",
       "      <td>3.55</td>\n",
       "      <td>3.55</td>\n",
       "      <td>NaN</td>\n",
       "      <td>0</td>\n",
       "      <td>0</td>\n",
       "    </tr>\n",
       "    <tr>\n",
       "      <th>4</th>\n",
       "      <td>Delirium Argentum</td>\n",
       "      <td>Delirium - Huyghe Brewery</td>\n",
       "      <td>IPA - Belgian</td>\n",
       "      <td>7.0</td>\n",
       "      <td>48</td>\n",
       "      <td>My favorite IPA to date. A very solid beer.</td>\n",
       "      <td>NaN</td>\n",
       "      <td>NaN</td>\n",
       "      <td>NaN</td>\n",
       "      <td>NaN</td>\n",
       "      <td>...</td>\n",
       "      <td>Draft</td>\n",
       "      <td>921067547</td>\n",
       "      <td>800757</td>\n",
       "      <td>285</td>\n",
       "      <td>NaN</td>\n",
       "      <td>3.61</td>\n",
       "      <td>3.61</td>\n",
       "      <td>NaN</td>\n",
       "      <td>0</td>\n",
       "      <td>0</td>\n",
       "    </tr>\n",
       "  </tbody>\n",
       "</table>\n",
       "<p>5 rows × 32 columns</p>\n",
       "</div>"
      ],
      "text/plain": [
       "            beer_name               brewery_name                  beer_type  \\\n",
       "0    Delirium Tremens  Delirium - Huyghe Brewery  Belgian Strong Golden Ale   \n",
       "1  Delirium Nocturnum  Delirium - Huyghe Brewery    Belgian Strong Dark Ale   \n",
       "2       La Guillotine  Delirium - Huyghe Brewery  Belgian Strong Golden Ale   \n",
       "3  Hanalei Island IPA       Kona Brewing Company              IPA - Session   \n",
       "4   Delirium Argentum  Delirium - Huyghe Brewery              IPA - Belgian   \n",
       "\n",
       "   beer_abv  beer_ibu                                            comment  \\\n",
       "0       8.5        24  A solid beer that would be easy to drink exclu...   \n",
       "1       8.5        24  A darker beer from the Delirium brand. Would b...   \n",
       "2       8.5         0  A very good brew. It is quite strong, which gi...   \n",
       "3       4.5        40                                                NaN   \n",
       "4       7.0        48        My favorite IPA to date. A very solid beer.   \n",
       "\n",
       "  venue_name venue_city venue_state venue_country  ...  serving_type  \\\n",
       "0        NaN        NaN         NaN           NaN  ...         Draft   \n",
       "1        NaN        NaN         NaN           NaN  ...        Bottle   \n",
       "2        NaN        NaN         NaN           NaN  ...         Draft   \n",
       "3        NaN        NaN         NaN           NaN  ...        Bottle   \n",
       "4        NaN        NaN         NaN           NaN  ...         Draft   \n",
       "\n",
       "   checkin_id      bid brewery_id photo_url global_rating_score  \\\n",
       "0   921065799     4485        285       NaN                3.87   \n",
       "1   921066266     4486        285       NaN                3.78   \n",
       "2   921066913    26907        285       NaN                3.58   \n",
       "3   921067292  1604713       1988       NaN                3.55   \n",
       "4   921067547   800757        285       NaN                3.61   \n",
       "\n",
       "  global_weighted_rating_score tagged_friends total_toasts total_comments  \n",
       "0                         3.87            NaN            0              0  \n",
       "1                         3.78            NaN            0              0  \n",
       "2                         3.58            NaN            0              0  \n",
       "3                         3.55            NaN            0              0  \n",
       "4                         3.61            NaN            0              0  \n",
       "\n",
       "[5 rows x 32 columns]"
      ]
     },
     "execution_count": 337,
     "metadata": {},
     "output_type": "execute_result"
    }
   ],
   "source": [
    "# Now, lets bring in our data\n",
    "beer_df = pd.read_csv('my_beer.csv')\n",
    "\n",
    "# I am going to display the data and our columns\n",
    "print(beer_df.columns)\n",
    "\n",
    "beer_df.head()"
   ]
  },
  {
   "cell_type": "code",
   "execution_count": 338,
   "metadata": {},
   "outputs": [
    {
     "data": {
      "text/html": [
       "<div>\n",
       "<style scoped>\n",
       "    .dataframe tbody tr th:only-of-type {\n",
       "        vertical-align: middle;\n",
       "    }\n",
       "\n",
       "    .dataframe tbody tr th {\n",
       "        vertical-align: top;\n",
       "    }\n",
       "\n",
       "    .dataframe thead th {\n",
       "        text-align: right;\n",
       "    }\n",
       "</style>\n",
       "<table border=\"1\" class=\"dataframe\">\n",
       "  <thead>\n",
       "    <tr style=\"text-align: right;\">\n",
       "      <th></th>\n",
       "      <th>beer_name</th>\n",
       "      <th>brewery_name</th>\n",
       "      <th>beer_type</th>\n",
       "      <th>beer_abv</th>\n",
       "      <th>rating_score</th>\n",
       "      <th>created_at</th>\n",
       "      <th>brewery_country</th>\n",
       "      <th>flavor_profiles</th>\n",
       "      <th>serving_type</th>\n",
       "      <th>global_rating_score</th>\n",
       "    </tr>\n",
       "  </thead>\n",
       "  <tbody>\n",
       "    <tr>\n",
       "      <th>0</th>\n",
       "      <td>Delirium Tremens</td>\n",
       "      <td>Delirium - Huyghe Brewery</td>\n",
       "      <td>Belgian Strong Golden Ale</td>\n",
       "      <td>8.5</td>\n",
       "      <td>3.75</td>\n",
       "      <td>2020-07-23 18:01:01</td>\n",
       "      <td>Belgium</td>\n",
       "      <td>light,smooth</td>\n",
       "      <td>Draft</td>\n",
       "      <td>3.87</td>\n",
       "    </tr>\n",
       "    <tr>\n",
       "      <th>1</th>\n",
       "      <td>Delirium Nocturnum</td>\n",
       "      <td>Delirium - Huyghe Brewery</td>\n",
       "      <td>Belgian Strong Dark Ale</td>\n",
       "      <td>8.5</td>\n",
       "      <td>3.00</td>\n",
       "      <td>2020-07-23 18:02:49</td>\n",
       "      <td>Belgium</td>\n",
       "      <td>strong,dark</td>\n",
       "      <td>Bottle</td>\n",
       "      <td>3.78</td>\n",
       "    </tr>\n",
       "    <tr>\n",
       "      <th>2</th>\n",
       "      <td>La Guillotine</td>\n",
       "      <td>Delirium - Huyghe Brewery</td>\n",
       "      <td>Belgian Strong Golden Ale</td>\n",
       "      <td>8.5</td>\n",
       "      <td>4.00</td>\n",
       "      <td>2020-07-23 18:05:09</td>\n",
       "      <td>Belgium</td>\n",
       "      <td>light,strong</td>\n",
       "      <td>Draft</td>\n",
       "      <td>3.58</td>\n",
       "    </tr>\n",
       "    <tr>\n",
       "      <th>3</th>\n",
       "      <td>Hanalei Island IPA</td>\n",
       "      <td>Kona Brewing Company</td>\n",
       "      <td>IPA - Session</td>\n",
       "      <td>4.5</td>\n",
       "      <td>4.00</td>\n",
       "      <td>2020-07-23 18:06:26</td>\n",
       "      <td>United States</td>\n",
       "      <td>tropical,fruity,hoppy</td>\n",
       "      <td>Bottle</td>\n",
       "      <td>3.55</td>\n",
       "    </tr>\n",
       "    <tr>\n",
       "      <th>4</th>\n",
       "      <td>Delirium Argentum</td>\n",
       "      <td>Delirium - Huyghe Brewery</td>\n",
       "      <td>IPA - Belgian</td>\n",
       "      <td>7.0</td>\n",
       "      <td>4.00</td>\n",
       "      <td>2020-07-23 18:07:14</td>\n",
       "      <td>Belgium</td>\n",
       "      <td>smooth,hoppy</td>\n",
       "      <td>Draft</td>\n",
       "      <td>3.61</td>\n",
       "    </tr>\n",
       "  </tbody>\n",
       "</table>\n",
       "</div>"
      ],
      "text/plain": [
       "            beer_name               brewery_name                  beer_type  \\\n",
       "0    Delirium Tremens  Delirium - Huyghe Brewery  Belgian Strong Golden Ale   \n",
       "1  Delirium Nocturnum  Delirium - Huyghe Brewery    Belgian Strong Dark Ale   \n",
       "2       La Guillotine  Delirium - Huyghe Brewery  Belgian Strong Golden Ale   \n",
       "3  Hanalei Island IPA       Kona Brewing Company              IPA - Session   \n",
       "4   Delirium Argentum  Delirium - Huyghe Brewery              IPA - Belgian   \n",
       "\n",
       "   beer_abv  rating_score           created_at brewery_country  \\\n",
       "0       8.5          3.75  2020-07-23 18:01:01         Belgium   \n",
       "1       8.5          3.00  2020-07-23 18:02:49         Belgium   \n",
       "2       8.5          4.00  2020-07-23 18:05:09         Belgium   \n",
       "3       4.5          4.00  2020-07-23 18:06:26   United States   \n",
       "4       7.0          4.00  2020-07-23 18:07:14         Belgium   \n",
       "\n",
       "         flavor_profiles serving_type  global_rating_score  \n",
       "0           light,smooth        Draft                 3.87  \n",
       "1            strong,dark       Bottle                 3.78  \n",
       "2           light,strong        Draft                 3.58  \n",
       "3  tropical,fruity,hoppy       Bottle                 3.55  \n",
       "4           smooth,hoppy        Draft                 3.61  "
      ]
     },
     "execution_count": 338,
     "metadata": {},
     "output_type": "execute_result"
    }
   ],
   "source": [
    "# A lot of the columns we have are unnecessary, so lets drop a few\n",
    "beer_df = beer_df.drop(['comment', 'venue_name', 'venue_city', 'venue_state', 'venue_country',\n",
    "       'venue_lat', 'venue_lng', 'checkin_url', 'beer_url', 'brewery_url', 'purchase_venue',\n",
    "       'checkin_id', 'photo_url', 'tagged_friends', 'total_toasts','total_comments', 'brewery_id', 'beer_ibu',\n",
    "        'brewery_city', 'brewery_state', 'bid', 'global_weighted_rating_score'], axis=1)\n",
    "\n",
    "beer_df.head()   "
   ]
  },
  {
   "cell_type": "code",
   "execution_count": 339,
   "metadata": {},
   "outputs": [
    {
     "data": {
      "text/html": [
       "<div>\n",
       "<style scoped>\n",
       "    .dataframe tbody tr th:only-of-type {\n",
       "        vertical-align: middle;\n",
       "    }\n",
       "\n",
       "    .dataframe tbody tr th {\n",
       "        vertical-align: top;\n",
       "    }\n",
       "\n",
       "    .dataframe thead th {\n",
       "        text-align: right;\n",
       "    }\n",
       "</style>\n",
       "<table border=\"1\" class=\"dataframe\">\n",
       "  <thead>\n",
       "    <tr style=\"text-align: right;\">\n",
       "      <th></th>\n",
       "      <th>Beer Name</th>\n",
       "      <th>Brewery Name</th>\n",
       "      <th>Beer Type</th>\n",
       "      <th>Alcohol By Vol</th>\n",
       "      <th>My Rating</th>\n",
       "      <th>Date of Rating</th>\n",
       "      <th>Brewery Country</th>\n",
       "      <th>Flavor Profiles</th>\n",
       "      <th>Serving Type</th>\n",
       "      <th>Global Rating</th>\n",
       "    </tr>\n",
       "  </thead>\n",
       "  <tbody>\n",
       "    <tr>\n",
       "      <th>0</th>\n",
       "      <td>Delirium Tremens</td>\n",
       "      <td>Delirium - Huyghe Brewery</td>\n",
       "      <td>Belgian Strong Golden Ale</td>\n",
       "      <td>8.5</td>\n",
       "      <td>3.75</td>\n",
       "      <td>2020-07-23 18:01:01</td>\n",
       "      <td>Belgium</td>\n",
       "      <td>light,smooth</td>\n",
       "      <td>Draft</td>\n",
       "      <td>3.87</td>\n",
       "    </tr>\n",
       "    <tr>\n",
       "      <th>1</th>\n",
       "      <td>Delirium Nocturnum</td>\n",
       "      <td>Delirium - Huyghe Brewery</td>\n",
       "      <td>Belgian Strong Dark Ale</td>\n",
       "      <td>8.5</td>\n",
       "      <td>3.00</td>\n",
       "      <td>2020-07-23 18:02:49</td>\n",
       "      <td>Belgium</td>\n",
       "      <td>strong,dark</td>\n",
       "      <td>Bottle</td>\n",
       "      <td>3.78</td>\n",
       "    </tr>\n",
       "    <tr>\n",
       "      <th>2</th>\n",
       "      <td>La Guillotine</td>\n",
       "      <td>Delirium - Huyghe Brewery</td>\n",
       "      <td>Belgian Strong Golden Ale</td>\n",
       "      <td>8.5</td>\n",
       "      <td>4.00</td>\n",
       "      <td>2020-07-23 18:05:09</td>\n",
       "      <td>Belgium</td>\n",
       "      <td>light,strong</td>\n",
       "      <td>Draft</td>\n",
       "      <td>3.58</td>\n",
       "    </tr>\n",
       "    <tr>\n",
       "      <th>3</th>\n",
       "      <td>Hanalei Island IPA</td>\n",
       "      <td>Kona Brewing Company</td>\n",
       "      <td>IPA - Session</td>\n",
       "      <td>4.5</td>\n",
       "      <td>4.00</td>\n",
       "      <td>2020-07-23 18:06:26</td>\n",
       "      <td>United States</td>\n",
       "      <td>tropical,fruity,hoppy</td>\n",
       "      <td>Bottle</td>\n",
       "      <td>3.55</td>\n",
       "    </tr>\n",
       "    <tr>\n",
       "      <th>4</th>\n",
       "      <td>Delirium Argentum</td>\n",
       "      <td>Delirium - Huyghe Brewery</td>\n",
       "      <td>IPA - Belgian</td>\n",
       "      <td>7.0</td>\n",
       "      <td>4.00</td>\n",
       "      <td>2020-07-23 18:07:14</td>\n",
       "      <td>Belgium</td>\n",
       "      <td>smooth,hoppy</td>\n",
       "      <td>Draft</td>\n",
       "      <td>3.61</td>\n",
       "    </tr>\n",
       "  </tbody>\n",
       "</table>\n",
       "</div>"
      ],
      "text/plain": [
       "            Beer Name               Brewery Name                  Beer Type  \\\n",
       "0    Delirium Tremens  Delirium - Huyghe Brewery  Belgian Strong Golden Ale   \n",
       "1  Delirium Nocturnum  Delirium - Huyghe Brewery    Belgian Strong Dark Ale   \n",
       "2       La Guillotine  Delirium - Huyghe Brewery  Belgian Strong Golden Ale   \n",
       "3  Hanalei Island IPA       Kona Brewing Company              IPA - Session   \n",
       "4   Delirium Argentum  Delirium - Huyghe Brewery              IPA - Belgian   \n",
       "\n",
       "   Alcohol By Vol  My Rating       Date of Rating Brewery Country  \\\n",
       "0             8.5       3.75  2020-07-23 18:01:01         Belgium   \n",
       "1             8.5       3.00  2020-07-23 18:02:49         Belgium   \n",
       "2             8.5       4.00  2020-07-23 18:05:09         Belgium   \n",
       "3             4.5       4.00  2020-07-23 18:06:26   United States   \n",
       "4             7.0       4.00  2020-07-23 18:07:14         Belgium   \n",
       "\n",
       "         Flavor Profiles Serving Type  Global Rating  \n",
       "0           light,smooth        Draft           3.87  \n",
       "1            strong,dark       Bottle           3.78  \n",
       "2           light,strong        Draft           3.58  \n",
       "3  tropical,fruity,hoppy       Bottle           3.55  \n",
       "4           smooth,hoppy        Draft           3.61  "
      ]
     },
     "execution_count": 339,
     "metadata": {},
     "output_type": "execute_result"
    }
   ],
   "source": [
    "# Now, I am going to rename my columns\n",
    "beer_df = beer_df.rename(columns={'beer_name' : 'Beer Name', 'brewery_name' : 'Brewery Name', 'beer_type' : 'Beer Type', 'beer_abv' : 'Alcohol By Vol',\n",
    "'rating_score' : 'My Rating', 'created_at' : 'Date of Rating', 'brewery_country' : 'Brewery Country','flavor_profiles' : 'Flavor Profiles', 'serving_type' : 'Serving Type',\n",
    "'global_rating_score' : 'Global Rating'})\n",
    "\n",
    "beer_df.head()"
   ]
  },
  {
   "cell_type": "code",
   "execution_count": 340,
   "metadata": {},
   "outputs": [
    {
     "data": {
      "text/html": [
       "<div>\n",
       "<style scoped>\n",
       "    .dataframe tbody tr th:only-of-type {\n",
       "        vertical-align: middle;\n",
       "    }\n",
       "\n",
       "    .dataframe tbody tr th {\n",
       "        vertical-align: top;\n",
       "    }\n",
       "\n",
       "    .dataframe thead th {\n",
       "        text-align: right;\n",
       "    }\n",
       "</style>\n",
       "<table border=\"1\" class=\"dataframe\">\n",
       "  <thead>\n",
       "    <tr style=\"text-align: right;\">\n",
       "      <th></th>\n",
       "      <th>Beer Name</th>\n",
       "      <th>Brewery Name</th>\n",
       "      <th>Beer Type</th>\n",
       "      <th>Alcohol By Vol</th>\n",
       "      <th>My Rating</th>\n",
       "      <th>Date of Rating</th>\n",
       "      <th>Brewery Country</th>\n",
       "      <th>Flavor Profiles</th>\n",
       "      <th>Serving Type</th>\n",
       "      <th>Global Rating</th>\n",
       "    </tr>\n",
       "  </thead>\n",
       "  <tbody>\n",
       "    <tr>\n",
       "      <th>0</th>\n",
       "      <td>Delirium Tremens</td>\n",
       "      <td>Delirium - Huyghe Brewery</td>\n",
       "      <td>Belgian Strong Golden Ale</td>\n",
       "      <td>8.5</td>\n",
       "      <td>3.75</td>\n",
       "      <td>2020</td>\n",
       "      <td>Belgium</td>\n",
       "      <td>light,smooth</td>\n",
       "      <td>Draft</td>\n",
       "      <td>3.87</td>\n",
       "    </tr>\n",
       "    <tr>\n",
       "      <th>1</th>\n",
       "      <td>Delirium Nocturnum</td>\n",
       "      <td>Delirium - Huyghe Brewery</td>\n",
       "      <td>Belgian Strong Dark Ale</td>\n",
       "      <td>8.5</td>\n",
       "      <td>3.00</td>\n",
       "      <td>2020</td>\n",
       "      <td>Belgium</td>\n",
       "      <td>strong,dark</td>\n",
       "      <td>Bottle</td>\n",
       "      <td>3.78</td>\n",
       "    </tr>\n",
       "    <tr>\n",
       "      <th>2</th>\n",
       "      <td>La Guillotine</td>\n",
       "      <td>Delirium - Huyghe Brewery</td>\n",
       "      <td>Belgian Strong Golden Ale</td>\n",
       "      <td>8.5</td>\n",
       "      <td>4.00</td>\n",
       "      <td>2020</td>\n",
       "      <td>Belgium</td>\n",
       "      <td>light,strong</td>\n",
       "      <td>Draft</td>\n",
       "      <td>3.58</td>\n",
       "    </tr>\n",
       "    <tr>\n",
       "      <th>3</th>\n",
       "      <td>Hanalei Island IPA</td>\n",
       "      <td>Kona Brewing Company</td>\n",
       "      <td>IPA - Session</td>\n",
       "      <td>4.5</td>\n",
       "      <td>4.00</td>\n",
       "      <td>2020</td>\n",
       "      <td>United States</td>\n",
       "      <td>tropical,fruity,hoppy</td>\n",
       "      <td>Bottle</td>\n",
       "      <td>3.55</td>\n",
       "    </tr>\n",
       "    <tr>\n",
       "      <th>4</th>\n",
       "      <td>Delirium Argentum</td>\n",
       "      <td>Delirium - Huyghe Brewery</td>\n",
       "      <td>IPA - Belgian</td>\n",
       "      <td>7.0</td>\n",
       "      <td>4.00</td>\n",
       "      <td>2020</td>\n",
       "      <td>Belgium</td>\n",
       "      <td>smooth,hoppy</td>\n",
       "      <td>Draft</td>\n",
       "      <td>3.61</td>\n",
       "    </tr>\n",
       "  </tbody>\n",
       "</table>\n",
       "</div>"
      ],
      "text/plain": [
       "            Beer Name               Brewery Name                  Beer Type  \\\n",
       "0    Delirium Tremens  Delirium - Huyghe Brewery  Belgian Strong Golden Ale   \n",
       "1  Delirium Nocturnum  Delirium - Huyghe Brewery    Belgian Strong Dark Ale   \n",
       "2       La Guillotine  Delirium - Huyghe Brewery  Belgian Strong Golden Ale   \n",
       "3  Hanalei Island IPA       Kona Brewing Company              IPA - Session   \n",
       "4   Delirium Argentum  Delirium - Huyghe Brewery              IPA - Belgian   \n",
       "\n",
       "   Alcohol By Vol  My Rating Date of Rating Brewery Country  \\\n",
       "0             8.5       3.75           2020         Belgium   \n",
       "1             8.5       3.00           2020         Belgium   \n",
       "2             8.5       4.00           2020         Belgium   \n",
       "3             4.5       4.00           2020   United States   \n",
       "4             7.0       4.00           2020         Belgium   \n",
       "\n",
       "         Flavor Profiles Serving Type  Global Rating  \n",
       "0           light,smooth        Draft           3.87  \n",
       "1            strong,dark       Bottle           3.78  \n",
       "2           light,strong        Draft           3.58  \n",
       "3  tropical,fruity,hoppy       Bottle           3.55  \n",
       "4           smooth,hoppy        Draft           3.61  "
      ]
     },
     "execution_count": 340,
     "metadata": {},
     "output_type": "execute_result"
    }
   ],
   "source": [
    "# Now, I am going to format the Date of Rating to just the year\n",
    "beer_df['Date of Rating'] = pd.to_datetime(beer_df['Date of Rating'])\n",
    "\n",
    "beer_df['Date of Rating'] = beer_df['Date of Rating'].dt.strftime('%Y')\n",
    "\n",
    "beer_df.head()"
   ]
  },
  {
   "cell_type": "code",
   "execution_count": 341,
   "metadata": {},
   "outputs": [],
   "source": [
    "# Let's drop the na values, as they will negatively impact our work down the line\n",
    "beer_df = beer_df.dropna()\n",
    "\n",
    "# Let's also drop the rows where abv == 0 if they exist\n",
    "zero_min = beer_df.loc[beer_df['Alcohol By Vol'] == 0.0].index\n",
    "beer_df = beer_df.drop(labels=zero_min, axis=0)\n",
    "\n",
    "# Might come back to this and clean it up a bit later\n",
    "\n",
    "# Now, let's check our work\n",
    "# print(np.min(beer_df['Alcohol By Vol']))"
   ]
  },
  {
   "cell_type": "code",
   "execution_count": 342,
   "metadata": {},
   "outputs": [
    {
     "name": "stdout",
     "output_type": "stream",
     "text": [
      "\n",
      "Calculations for my rating vs. the global rating:\n",
      "\n",
      "My average rating for my beer history is: 3.59, \n",
      "as opposed the the global average, which is: 3.7. \n",
      "\n",
      "The difference is: 0.11, \n",
      "or a percentage of: 11.0%.\n",
      "\n"
     ]
    }
   ],
   "source": [
    "# Let's get an idea of the \"My Ratings\" column vs the Global Ratings column\n",
    "\n",
    "# Change the series to a type floar\n",
    "beer_df['My Rating'] = round(beer_df['My Rating'].astype(float), 2)\n",
    "\n",
    "# My average\n",
    "average_rating = round(np.average(beer_df['My Rating']), 2)\n",
    "\n",
    "# Global average\n",
    "average_global_rating = round(np.average(beer_df['Global Rating']), 2)\n",
    "\n",
    "# The difference in decimal and percentage\n",
    "rating_difference = average_global_rating - average_rating\n",
    "\n",
    "# Formatting String with the outcomes\n",
    "print(f\"\"\"\n",
    "Calculations for my rating vs. the global rating:\n",
    "\n",
    "My average rating for my beer history is: {average_rating}, \n",
    "as opposed the the global average, which is: {average_global_rating}. \n",
    "\n",
    "The difference is: {round(rating_difference, 2)}, \n",
    "or a percentage of: {round(rating_difference * 100, 2)}%.\n",
    "\"\"\")"
   ]
  },
  {
   "cell_type": "code",
   "execution_count": 343,
   "metadata": {},
   "outputs": [
    {
     "data": {
      "text/html": [
       "<div>\n",
       "<style scoped>\n",
       "    .dataframe tbody tr th:only-of-type {\n",
       "        vertical-align: middle;\n",
       "    }\n",
       "\n",
       "    .dataframe tbody tr th {\n",
       "        vertical-align: top;\n",
       "    }\n",
       "\n",
       "    .dataframe thead th {\n",
       "        text-align: right;\n",
       "    }\n",
       "</style>\n",
       "<table border=\"1\" class=\"dataframe\">\n",
       "  <thead>\n",
       "    <tr style=\"text-align: right;\">\n",
       "      <th></th>\n",
       "      <th>Beer Name</th>\n",
       "      <th>Brewery Name</th>\n",
       "      <th>Beer Type</th>\n",
       "      <th>Alcohol By Vol</th>\n",
       "      <th>My Rating</th>\n",
       "      <th>Date of Rating</th>\n",
       "      <th>Brewery Country</th>\n",
       "      <th>Flavor Profiles</th>\n",
       "      <th>Serving Type</th>\n",
       "      <th>Global Rating</th>\n",
       "      <th>ABV Type</th>\n",
       "    </tr>\n",
       "  </thead>\n",
       "  <tbody>\n",
       "    <tr>\n",
       "      <th>0</th>\n",
       "      <td>Delirium Tremens</td>\n",
       "      <td>Delirium - Huyghe Brewery</td>\n",
       "      <td>Belgian Strong Golden Ale</td>\n",
       "      <td>8.5</td>\n",
       "      <td>3.75</td>\n",
       "      <td>2020</td>\n",
       "      <td>Belgium</td>\n",
       "      <td>light,smooth</td>\n",
       "      <td>Draft</td>\n",
       "      <td>3.87</td>\n",
       "      <td>Strong</td>\n",
       "    </tr>\n",
       "    <tr>\n",
       "      <th>1</th>\n",
       "      <td>Delirium Nocturnum</td>\n",
       "      <td>Delirium - Huyghe Brewery</td>\n",
       "      <td>Belgian Strong Dark Ale</td>\n",
       "      <td>8.5</td>\n",
       "      <td>3.00</td>\n",
       "      <td>2020</td>\n",
       "      <td>Belgium</td>\n",
       "      <td>strong,dark</td>\n",
       "      <td>Bottle</td>\n",
       "      <td>3.78</td>\n",
       "      <td>Strong</td>\n",
       "    </tr>\n",
       "    <tr>\n",
       "      <th>2</th>\n",
       "      <td>La Guillotine</td>\n",
       "      <td>Delirium - Huyghe Brewery</td>\n",
       "      <td>Belgian Strong Golden Ale</td>\n",
       "      <td>8.5</td>\n",
       "      <td>4.00</td>\n",
       "      <td>2020</td>\n",
       "      <td>Belgium</td>\n",
       "      <td>light,strong</td>\n",
       "      <td>Draft</td>\n",
       "      <td>3.58</td>\n",
       "      <td>Strong</td>\n",
       "    </tr>\n",
       "    <tr>\n",
       "      <th>3</th>\n",
       "      <td>Hanalei Island IPA</td>\n",
       "      <td>Kona Brewing Company</td>\n",
       "      <td>IPA - Session</td>\n",
       "      <td>4.5</td>\n",
       "      <td>4.00</td>\n",
       "      <td>2020</td>\n",
       "      <td>United States</td>\n",
       "      <td>tropical,fruity,hoppy</td>\n",
       "      <td>Bottle</td>\n",
       "      <td>3.55</td>\n",
       "      <td>Light</td>\n",
       "    </tr>\n",
       "    <tr>\n",
       "      <th>4</th>\n",
       "      <td>Delirium Argentum</td>\n",
       "      <td>Delirium - Huyghe Brewery</td>\n",
       "      <td>IPA - Belgian</td>\n",
       "      <td>7.0</td>\n",
       "      <td>4.00</td>\n",
       "      <td>2020</td>\n",
       "      <td>Belgium</td>\n",
       "      <td>smooth,hoppy</td>\n",
       "      <td>Draft</td>\n",
       "      <td>3.61</td>\n",
       "      <td>Medium</td>\n",
       "    </tr>\n",
       "  </tbody>\n",
       "</table>\n",
       "</div>"
      ],
      "text/plain": [
       "            Beer Name               Brewery Name                  Beer Type  \\\n",
       "0    Delirium Tremens  Delirium - Huyghe Brewery  Belgian Strong Golden Ale   \n",
       "1  Delirium Nocturnum  Delirium - Huyghe Brewery    Belgian Strong Dark Ale   \n",
       "2       La Guillotine  Delirium - Huyghe Brewery  Belgian Strong Golden Ale   \n",
       "3  Hanalei Island IPA       Kona Brewing Company              IPA - Session   \n",
       "4   Delirium Argentum  Delirium - Huyghe Brewery              IPA - Belgian   \n",
       "\n",
       "   Alcohol By Vol  My Rating Date of Rating Brewery Country  \\\n",
       "0             8.5       3.75           2020         Belgium   \n",
       "1             8.5       3.00           2020         Belgium   \n",
       "2             8.5       4.00           2020         Belgium   \n",
       "3             4.5       4.00           2020   United States   \n",
       "4             7.0       4.00           2020         Belgium   \n",
       "\n",
       "         Flavor Profiles Serving Type  Global Rating ABV Type  \n",
       "0           light,smooth        Draft           3.87   Strong  \n",
       "1            strong,dark       Bottle           3.78   Strong  \n",
       "2           light,strong        Draft           3.58   Strong  \n",
       "3  tropical,fruity,hoppy       Bottle           3.55    Light  \n",
       "4           smooth,hoppy        Draft           3.61   Medium  "
      ]
     },
     "execution_count": 343,
     "metadata": {},
     "output_type": "execute_result"
    }
   ],
   "source": [
    "# Let's now add ABV conditions\n",
    "abv_numbers = [\n",
    "  (beer_df['Alcohol By Vol'] >= 1.2) & (beer_df['Alcohol By Vol'] <= 4.9),\n",
    "  (beer_df['Alcohol By Vol'] >= 5.0) & (beer_df['Alcohol By Vol'] <= 7.9),\n",
    "  (beer_df['Alcohol By Vol'] >= 8.0) & (beer_df['Alcohol By Vol'] <= 15.0)\n",
    "]\n",
    "\n",
    "# Labels for the ABV types\n",
    "abv_labels = ['Light', 'Medium', 'Strong']\n",
    "\n",
    "# The new column with the ABV types\n",
    "beer_df['ABV Type'] = np.select(abv_numbers, abv_labels)\n",
    "\n",
    "# Let us ensure it worked\n",
    "beer_df.head()"
   ]
  },
  {
   "cell_type": "code",
   "execution_count": 344,
   "metadata": {},
   "outputs": [
    {
     "name": "stdout",
     "output_type": "stream",
     "text": [
      "\n",
      "Total Count: 233 brews\n",
      "\n",
      "Count for Light Beer: 38 brews, \n",
      "16.31% of the total count.\n",
      "\n",
      "Count for Medium Beer: 148 brews, \n",
      "63.52% of the total count.\n",
      "\n",
      "Count for Strong Beer: 47 brews, \n",
      "20.17% of the total count.\n",
      "\n"
     ]
    }
   ],
   "source": [
    "# Now, lets get some counts for how many Light, Medium, and Strong beers we have\n",
    "light_abv = len(beer_df.loc[beer_df['ABV Type'] == 'Light'])\n",
    "medium_abv = len(beer_df.loc[beer_df['ABV Type'] == 'Medium'])\n",
    "strong_abv = len(beer_df.loc[beer_df['ABV Type'] == 'Strong'])\n",
    "\n",
    "# Add them all together\n",
    "total_beer = light_abv + medium_abv + strong_abv\n",
    "\n",
    "# Now to calculate the percentages\n",
    "light_abv_perc = round(light_abv/total_beer * 100, 2)\n",
    "medium_abv_perc = round(medium_abv/total_beer * 100, 2)\n",
    "strong_abv_perc = round(strong_abv/total_beer * 100, 2)\n",
    "\n",
    "# Printing the number of entries\n",
    "print(f\"\"\"\n",
    "Total Count: {total_beer} brews\n",
    "\n",
    "Count for Light Beer: {light_abv} brews, \n",
    "{light_abv_perc}% of the total count.\n",
    "\n",
    "Count for Medium Beer: {medium_abv} brews, \n",
    "{medium_abv_perc}% of the total count.\n",
    "\n",
    "Count for Strong Beer: {strong_abv} brews, \n",
    "{strong_abv_perc}% of the total count.\n",
    "\"\"\")"
   ]
  },
  {
   "cell_type": "code",
   "execution_count": 345,
   "metadata": {},
   "outputs": [
    {
     "name": "stdout",
     "output_type": "stream",
     "text": [
      "\n",
      "Total count: 233 brews\n",
      "\n",
      "Count for 2020: 68 brews, \n",
      "29.18% of the total count.\n",
      "\n",
      "Count for 2021: 102 brews, \n",
      "43.78% of the total count.\n",
      "\n",
      "Count for 2022: 63 brews, \n",
      "27.04% of the total count.\n",
      "\n"
     ]
    }
   ],
   "source": [
    "# Now, lets also see the percentage for which year I drank the most beer\n",
    "\n",
    "# First, since our column is a datetime type, we need to make it an int\n",
    "beer_df['Date of Rating'] = beer_df['Date of Rating'].astype(int)\n",
    "\n",
    "# Lets get all of the counts for each year\n",
    "beer_2020 = len(beer_df.loc[beer_df['Date of Rating'] == 2020])\n",
    "beer_2021 = len(beer_df.loc[beer_df['Date of Rating'] == 2021])\n",
    "beer_2022 = len(beer_df.loc[beer_df['Date of Rating'] == 2022])\n",
    "\n",
    "# Add them up\n",
    "total_beer_per_year = beer_2020 + beer_2021 + beer_2022\n",
    "\n",
    "# # Now to calculate the percentages\n",
    "beer_2020_perc = round(beer_2020/total_beer_per_year * 100, 2)\n",
    "beer_2021_perc = round(beer_2021/total_beer_per_year * 100, 2)\n",
    "beer_2022_perc = round(beer_2022/total_beer_per_year * 100, 2)\n",
    "\n",
    "# Printing the number of entries via len()\n",
    "print(f\"\"\"\n",
    "Total count: {total_beer_per_year} brews\n",
    "\n",
    "Count for 2020: {beer_2020} brews, \n",
    "{beer_2020_perc}% of the total count.\n",
    "\n",
    "Count for 2021: {beer_2021} brews, \n",
    "{beer_2021_perc}% of the total count.\n",
    "\n",
    "Count for 2022: {beer_2022} brews, \n",
    "{beer_2022_perc}% of the total count.\n",
    "\"\"\")"
   ]
  },
  {
   "cell_type": "code",
   "execution_count": 346,
   "metadata": {},
   "outputs": [
    {
     "data": {
      "text/html": [
       "<div>\n",
       "<style scoped>\n",
       "    .dataframe tbody tr th:only-of-type {\n",
       "        vertical-align: middle;\n",
       "    }\n",
       "\n",
       "    .dataframe tbody tr th {\n",
       "        vertical-align: top;\n",
       "    }\n",
       "\n",
       "    .dataframe thead th {\n",
       "        text-align: right;\n",
       "    }\n",
       "</style>\n",
       "<table border=\"1\" class=\"dataframe\">\n",
       "  <thead>\n",
       "    <tr style=\"text-align: right;\">\n",
       "      <th></th>\n",
       "      <th>My Rating</th>\n",
       "      <th>Global Rating</th>\n",
       "      <th>Serving Type</th>\n",
       "    </tr>\n",
       "  </thead>\n",
       "  <tbody>\n",
       "    <tr>\n",
       "      <th>0</th>\n",
       "      <td>3.75</td>\n",
       "      <td>3.87</td>\n",
       "      <td>Draft</td>\n",
       "    </tr>\n",
       "    <tr>\n",
       "      <th>1</th>\n",
       "      <td>3.00</td>\n",
       "      <td>3.78</td>\n",
       "      <td>Bottle</td>\n",
       "    </tr>\n",
       "    <tr>\n",
       "      <th>2</th>\n",
       "      <td>4.00</td>\n",
       "      <td>3.58</td>\n",
       "      <td>Draft</td>\n",
       "    </tr>\n",
       "    <tr>\n",
       "      <th>3</th>\n",
       "      <td>4.00</td>\n",
       "      <td>3.55</td>\n",
       "      <td>Bottle</td>\n",
       "    </tr>\n",
       "    <tr>\n",
       "      <th>4</th>\n",
       "      <td>4.00</td>\n",
       "      <td>3.61</td>\n",
       "      <td>Draft</td>\n",
       "    </tr>\n",
       "  </tbody>\n",
       "</table>\n",
       "</div>"
      ],
      "text/plain": [
       "   My Rating  Global Rating Serving Type\n",
       "0       3.75           3.87        Draft\n",
       "1       3.00           3.78       Bottle\n",
       "2       4.00           3.58        Draft\n",
       "3       4.00           3.55       Bottle\n",
       "4       4.00           3.61        Draft"
      ]
     },
     "execution_count": 346,
     "metadata": {},
     "output_type": "execute_result"
    }
   ],
   "source": [
    "# I am also interested to see which serving type I liked the most. For this calculation, I am going to make a new frame tailored to what I need\n",
    "serving_type_frame = beer_df[['My Rating', 'Global Rating' ,'Serving Type']]\n",
    "\n",
    "serving_type_frame.head()"
   ]
  },
  {
   "cell_type": "code",
   "execution_count": 347,
   "metadata": {},
   "outputs": [
    {
     "name": "stdout",
     "output_type": "stream",
     "text": [
      "['Draft' 'Bottle' 'Can']\n"
     ]
    }
   ],
   "source": [
    "# Now, lets see all of our unique values in the Serving Type column\n",
    "unique_serving_type = serving_type_frame['Serving Type'].unique()\n",
    "print(unique_serving_type)"
   ]
  },
  {
   "cell_type": "code",
   "execution_count": 348,
   "metadata": {},
   "outputs": [
    {
     "name": "stdout",
     "output_type": "stream",
     "text": [
      "\n",
      "Total count: 233 brews\n",
      "\n",
      "Count for Bottles: 68 brews, \n",
      "29.18% of the total count.\n",
      "\n",
      "Count for Cans: 43 brews, \n",
      "18.45% of the total count.\n",
      "\n",
      "Count for Draft: 122 brews, \n",
      "52.36% of the total count.\n",
      "\n"
     ]
    }
   ],
   "source": [
    "# We have 3 unique values. So, lets go ahead and extract those values\n",
    "serving_type_bottle = serving_type_frame.loc[serving_type_frame['Serving Type'] == 'Bottle']\n",
    "serving_type_can = serving_type_frame.loc[serving_type_frame['Serving Type'] == 'Can']\n",
    "serving_type_draft = serving_type_frame.loc[serving_type_frame['Serving Type'] == 'Draft']\n",
    "\n",
    "# Just as a curiosity, lets follow a calculation like we did for years and abv, so, I'll add them all\n",
    "total_serving_type = len(serving_type_bottle) + len(serving_type_can) + len(serving_type_draft)\n",
    "\n",
    "# Get the calculations\n",
    "serv_ty_bot_perc = round(len(serving_type_bottle) / total_serving_type * 100, 2)\n",
    "serv_ty_can_perc = round(len(serving_type_can) / total_serving_type * 100, 2)\n",
    "serv_ty_draft_perc = round(len(serving_type_draft) / total_serving_type * 100, 2)\n",
    "\n",
    "# Lets now see what we came up with\n",
    "print(f\"\"\"\n",
    "Total count: {total_serving_type} brews\n",
    "\n",
    "Count for Bottles: {len(serving_type_bottle)} brews, \n",
    "{serv_ty_bot_perc}% of the total count.\n",
    "\n",
    "Count for Cans: {len(serving_type_can)} brews, \n",
    "{serv_ty_can_perc}% of the total count.\n",
    "\n",
    "Count for Draft: {len(serving_type_draft)} brews, \n",
    "{serv_ty_draft_perc}% of the total count.\n",
    "\"\"\")"
   ]
  },
  {
   "cell_type": "code",
   "execution_count": 349,
   "metadata": {},
   "outputs": [
    {
     "name": "stdout",
     "output_type": "stream",
     "text": [
      "\n",
      "Average Rating for Bottles: 3.47/5\n",
      "\n",
      "Average Rating for Cans: 3.58/5\n",
      "\n",
      "Average Rating for Draft: 3.67/5\n",
      "\n"
     ]
    }
   ],
   "source": [
    "# We had those variable for serving types and the serving_type_frame for a reason. Lets start with some basic calculations I may use for visualizing\n",
    "serving_type_bottle_avg = round(np.average(serving_type_bottle['My Rating']), 2)\n",
    "serving_type_can_avg = round(np.average(serving_type_can['My Rating']), 2)\n",
    "serving_type_draft_avg = round(np.average(serving_type_draft['My Rating']), 2)\n",
    "print(f\"\"\"\n",
    "Average Rating for Bottles: {serving_type_bottle_avg}/5\n",
    "\n",
    "Average Rating for Cans: {serving_type_can_avg}/5\n",
    "\n",
    "Average Rating for Draft: {serving_type_draft_avg}/5\n",
    "\"\"\")"
   ]
  },
  {
   "cell_type": "code",
   "execution_count": 350,
   "metadata": {},
   "outputs": [],
   "source": [
    "# Copy the frame\n",
    "scaled_beer_frame = beer_df.copy()\n",
    "\n",
    "# Isolation forest model\n",
    "model = IsolationForest(n_estimators=100, max_samples='auto', contamination='auto', max_features=1.0)\n",
    "model.fit(scaled_beer_frame[['Alcohol By Vol', 'My Rating', 'Global Rating']])\n",
    "\n",
    "# Scores and anomaly detection\n",
    "scaled_beer_frame['ABV Scores'] = model.decision_function(scaled_beer_frame[['Alcohol By Vol', 'My Rating', 'Global Rating']])\n",
    "scaled_beer_frame['Anomalies'] = model.predict(scaled_beer_frame[['Alcohol By Vol', 'My Rating', 'Global Rating']])"
   ]
  },
  {
   "cell_type": "code",
   "execution_count": 351,
   "metadata": {},
   "outputs": [
    {
     "name": "stdout",
     "output_type": "stream",
     "text": [
      "37\n"
     ]
    },
    {
     "data": {
      "text/html": [
       "<div>\n",
       "<style scoped>\n",
       "    .dataframe tbody tr th:only-of-type {\n",
       "        vertical-align: middle;\n",
       "    }\n",
       "\n",
       "    .dataframe tbody tr th {\n",
       "        vertical-align: top;\n",
       "    }\n",
       "\n",
       "    .dataframe thead th {\n",
       "        text-align: right;\n",
       "    }\n",
       "</style>\n",
       "<table border=\"1\" class=\"dataframe\">\n",
       "  <thead>\n",
       "    <tr style=\"text-align: right;\">\n",
       "      <th></th>\n",
       "      <th>Beer Name</th>\n",
       "      <th>Brewery Name</th>\n",
       "      <th>Beer Type</th>\n",
       "      <th>Alcohol By Vol</th>\n",
       "      <th>My Rating</th>\n",
       "      <th>Date of Rating</th>\n",
       "      <th>Brewery Country</th>\n",
       "      <th>Flavor Profiles</th>\n",
       "      <th>Serving Type</th>\n",
       "      <th>Global Rating</th>\n",
       "      <th>ABV Type</th>\n",
       "      <th>Anomalies</th>\n",
       "    </tr>\n",
       "  </thead>\n",
       "  <tbody>\n",
       "    <tr>\n",
       "      <th>6</th>\n",
       "      <td>Trappist Westvleteren 12</td>\n",
       "      <td>Brouwerij De Sint-Sixtusabdij van Westvleteren</td>\n",
       "      <td>Belgian Quadrupel</td>\n",
       "      <td>10.2</td>\n",
       "      <td>3.50</td>\n",
       "      <td>2020</td>\n",
       "      <td>Belgium</td>\n",
       "      <td>rich,smooth,dark</td>\n",
       "      <td>Bottle</td>\n",
       "      <td>4.51</td>\n",
       "      <td>Strong</td>\n",
       "      <td>-1</td>\n",
       "    </tr>\n",
       "    <tr>\n",
       "      <th>8</th>\n",
       "      <td>Gruut Inferno</td>\n",
       "      <td>Gentse Gruut Stadsbrouwerij</td>\n",
       "      <td>Belgian Tripel</td>\n",
       "      <td>9.0</td>\n",
       "      <td>4.25</td>\n",
       "      <td>2020</td>\n",
       "      <td>Belgium</td>\n",
       "      <td>strong,bitter</td>\n",
       "      <td>Bottle</td>\n",
       "      <td>3.53</td>\n",
       "      <td>Strong</td>\n",
       "      <td>-1</td>\n",
       "    </tr>\n",
       "    <tr>\n",
       "      <th>17</th>\n",
       "      <td>Beck's</td>\n",
       "      <td>Brauerei Beck</td>\n",
       "      <td>Pilsner - German</td>\n",
       "      <td>4.9</td>\n",
       "      <td>2.50</td>\n",
       "      <td>2020</td>\n",
       "      <td>Germany</td>\n",
       "      <td>clean,light</td>\n",
       "      <td>Bottle</td>\n",
       "      <td>2.95</td>\n",
       "      <td>Light</td>\n",
       "      <td>-1</td>\n",
       "    </tr>\n",
       "    <tr>\n",
       "      <th>22</th>\n",
       "      <td>Delirium Black Barrel Aged</td>\n",
       "      <td>Delirium - Huyghe Brewery</td>\n",
       "      <td>Belgian Strong Dark Ale</td>\n",
       "      <td>11.5</td>\n",
       "      <td>4.00</td>\n",
       "      <td>2020</td>\n",
       "      <td>Belgium</td>\n",
       "      <td>barrel aged,bourbon</td>\n",
       "      <td>Bottle</td>\n",
       "      <td>4.06</td>\n",
       "      <td>Strong</td>\n",
       "      <td>-1</td>\n",
       "    </tr>\n",
       "    <tr>\n",
       "      <th>28</th>\n",
       "      <td>Préaris Grand Cru 2018 Laphroaig</td>\n",
       "      <td>Vliegende Paard Brouwers</td>\n",
       "      <td>Belgian Quadrupel</td>\n",
       "      <td>10.0</td>\n",
       "      <td>4.50</td>\n",
       "      <td>2020</td>\n",
       "      <td>Belgium</td>\n",
       "      <td>full,peaty</td>\n",
       "      <td>Bottle</td>\n",
       "      <td>3.88</td>\n",
       "      <td>Strong</td>\n",
       "      <td>-1</td>\n",
       "    </tr>\n",
       "  </tbody>\n",
       "</table>\n",
       "</div>"
      ],
      "text/plain": [
       "                           Beer Name  \\\n",
       "6           Trappist Westvleteren 12   \n",
       "8                      Gruut Inferno   \n",
       "17                            Beck's   \n",
       "22        Delirium Black Barrel Aged   \n",
       "28  Préaris Grand Cru 2018 Laphroaig   \n",
       "\n",
       "                                      Brewery Name                Beer Type  \\\n",
       "6   Brouwerij De Sint-Sixtusabdij van Westvleteren        Belgian Quadrupel   \n",
       "8                      Gentse Gruut Stadsbrouwerij           Belgian Tripel   \n",
       "17                                   Brauerei Beck         Pilsner - German   \n",
       "22                       Delirium - Huyghe Brewery  Belgian Strong Dark Ale   \n",
       "28                        Vliegende Paard Brouwers        Belgian Quadrupel   \n",
       "\n",
       "    Alcohol By Vol  My Rating  Date of Rating Brewery Country  \\\n",
       "6             10.2       3.50            2020         Belgium   \n",
       "8              9.0       4.25            2020         Belgium   \n",
       "17             4.9       2.50            2020         Germany   \n",
       "22            11.5       4.00            2020         Belgium   \n",
       "28            10.0       4.50            2020         Belgium   \n",
       "\n",
       "        Flavor Profiles Serving Type  Global Rating ABV Type  Anomalies  \n",
       "6      rich,smooth,dark       Bottle           4.51   Strong         -1  \n",
       "8         strong,bitter       Bottle           3.53   Strong         -1  \n",
       "17          clean,light       Bottle           2.95    Light         -1  \n",
       "22  barrel aged,bourbon       Bottle           4.06   Strong         -1  \n",
       "28           full,peaty       Bottle           3.88   Strong         -1  "
      ]
     },
     "execution_count": 351,
     "metadata": {},
     "output_type": "execute_result"
    }
   ],
   "source": [
    "# Now, we can also go ahead and apply the anomalous column to our original frame\n",
    "beer_df['Anomalies'] = scaled_beer_frame['Anomalies']\n",
    "\n",
    "# Now, lets get and idea of how many anomalies \n",
    "anoms = beer_df.loc[beer_df['Anomalies'] == -1]\n",
    "print(len(anoms))\n",
    "\n",
    "# Lets also get the index values, we can use them later\n",
    "anom_index = list(anoms.index)\n",
    "\n",
    "# And now, we can see exactly which ones are anomalous (commenting out because the list is rather extensive)\n",
    "# anoms.loc[anom_index]\n",
    "\n",
    "# Going to use anoms for visualizing\n",
    "anoms.head()"
   ]
  },
  {
   "cell_type": "code",
   "execution_count": 352,
   "metadata": {},
   "outputs": [
    {
     "data": {
      "application/vnd.plotly.v1+json": {
       "config": {
        "plotlyServerURL": "https://plot.ly"
       },
       "data": [
        {
         "type": "bar",
         "x": [
          2,
          2.25,
          2.5,
          2.75,
          3,
          3.25,
          3.5,
          3.75,
          4,
          4.25,
          4.5,
          4.75,
          5
         ],
         "y": [
          2,
          1,
          4,
          1,
          3,
          2,
          6,
          4,
          4,
          1,
          7,
          1,
          1
         ]
        }
       ],
       "layout": {
        "barmode": "group",
        "legend": {
         "orientation": "h"
        },
        "template": {
         "data": {
          "bar": [
           {
            "error_x": {
             "color": "#2a3f5f"
            },
            "error_y": {
             "color": "#2a3f5f"
            },
            "marker": {
             "line": {
              "color": "#E5ECF6",
              "width": 0.5
             },
             "pattern": {
              "fillmode": "overlay",
              "size": 10,
              "solidity": 0.2
             }
            },
            "type": "bar"
           }
          ],
          "barpolar": [
           {
            "marker": {
             "line": {
              "color": "#E5ECF6",
              "width": 0.5
             },
             "pattern": {
              "fillmode": "overlay",
              "size": 10,
              "solidity": 0.2
             }
            },
            "type": "barpolar"
           }
          ],
          "carpet": [
           {
            "aaxis": {
             "endlinecolor": "#2a3f5f",
             "gridcolor": "white",
             "linecolor": "white",
             "minorgridcolor": "white",
             "startlinecolor": "#2a3f5f"
            },
            "baxis": {
             "endlinecolor": "#2a3f5f",
             "gridcolor": "white",
             "linecolor": "white",
             "minorgridcolor": "white",
             "startlinecolor": "#2a3f5f"
            },
            "type": "carpet"
           }
          ],
          "choropleth": [
           {
            "colorbar": {
             "outlinewidth": 0,
             "ticks": ""
            },
            "type": "choropleth"
           }
          ],
          "contour": [
           {
            "colorbar": {
             "outlinewidth": 0,
             "ticks": ""
            },
            "colorscale": [
             [
              0,
              "#0d0887"
             ],
             [
              0.1111111111111111,
              "#46039f"
             ],
             [
              0.2222222222222222,
              "#7201a8"
             ],
             [
              0.3333333333333333,
              "#9c179e"
             ],
             [
              0.4444444444444444,
              "#bd3786"
             ],
             [
              0.5555555555555556,
              "#d8576b"
             ],
             [
              0.6666666666666666,
              "#ed7953"
             ],
             [
              0.7777777777777778,
              "#fb9f3a"
             ],
             [
              0.8888888888888888,
              "#fdca26"
             ],
             [
              1,
              "#f0f921"
             ]
            ],
            "type": "contour"
           }
          ],
          "contourcarpet": [
           {
            "colorbar": {
             "outlinewidth": 0,
             "ticks": ""
            },
            "type": "contourcarpet"
           }
          ],
          "heatmap": [
           {
            "colorbar": {
             "outlinewidth": 0,
             "ticks": ""
            },
            "colorscale": [
             [
              0,
              "#0d0887"
             ],
             [
              0.1111111111111111,
              "#46039f"
             ],
             [
              0.2222222222222222,
              "#7201a8"
             ],
             [
              0.3333333333333333,
              "#9c179e"
             ],
             [
              0.4444444444444444,
              "#bd3786"
             ],
             [
              0.5555555555555556,
              "#d8576b"
             ],
             [
              0.6666666666666666,
              "#ed7953"
             ],
             [
              0.7777777777777778,
              "#fb9f3a"
             ],
             [
              0.8888888888888888,
              "#fdca26"
             ],
             [
              1,
              "#f0f921"
             ]
            ],
            "type": "heatmap"
           }
          ],
          "heatmapgl": [
           {
            "colorbar": {
             "outlinewidth": 0,
             "ticks": ""
            },
            "colorscale": [
             [
              0,
              "#0d0887"
             ],
             [
              0.1111111111111111,
              "#46039f"
             ],
             [
              0.2222222222222222,
              "#7201a8"
             ],
             [
              0.3333333333333333,
              "#9c179e"
             ],
             [
              0.4444444444444444,
              "#bd3786"
             ],
             [
              0.5555555555555556,
              "#d8576b"
             ],
             [
              0.6666666666666666,
              "#ed7953"
             ],
             [
              0.7777777777777778,
              "#fb9f3a"
             ],
             [
              0.8888888888888888,
              "#fdca26"
             ],
             [
              1,
              "#f0f921"
             ]
            ],
            "type": "heatmapgl"
           }
          ],
          "histogram": [
           {
            "marker": {
             "pattern": {
              "fillmode": "overlay",
              "size": 10,
              "solidity": 0.2
             }
            },
            "type": "histogram"
           }
          ],
          "histogram2d": [
           {
            "colorbar": {
             "outlinewidth": 0,
             "ticks": ""
            },
            "colorscale": [
             [
              0,
              "#0d0887"
             ],
             [
              0.1111111111111111,
              "#46039f"
             ],
             [
              0.2222222222222222,
              "#7201a8"
             ],
             [
              0.3333333333333333,
              "#9c179e"
             ],
             [
              0.4444444444444444,
              "#bd3786"
             ],
             [
              0.5555555555555556,
              "#d8576b"
             ],
             [
              0.6666666666666666,
              "#ed7953"
             ],
             [
              0.7777777777777778,
              "#fb9f3a"
             ],
             [
              0.8888888888888888,
              "#fdca26"
             ],
             [
              1,
              "#f0f921"
             ]
            ],
            "type": "histogram2d"
           }
          ],
          "histogram2dcontour": [
           {
            "colorbar": {
             "outlinewidth": 0,
             "ticks": ""
            },
            "colorscale": [
             [
              0,
              "#0d0887"
             ],
             [
              0.1111111111111111,
              "#46039f"
             ],
             [
              0.2222222222222222,
              "#7201a8"
             ],
             [
              0.3333333333333333,
              "#9c179e"
             ],
             [
              0.4444444444444444,
              "#bd3786"
             ],
             [
              0.5555555555555556,
              "#d8576b"
             ],
             [
              0.6666666666666666,
              "#ed7953"
             ],
             [
              0.7777777777777778,
              "#fb9f3a"
             ],
             [
              0.8888888888888888,
              "#fdca26"
             ],
             [
              1,
              "#f0f921"
             ]
            ],
            "type": "histogram2dcontour"
           }
          ],
          "mesh3d": [
           {
            "colorbar": {
             "outlinewidth": 0,
             "ticks": ""
            },
            "type": "mesh3d"
           }
          ],
          "parcoords": [
           {
            "line": {
             "colorbar": {
              "outlinewidth": 0,
              "ticks": ""
             }
            },
            "type": "parcoords"
           }
          ],
          "pie": [
           {
            "automargin": true,
            "type": "pie"
           }
          ],
          "scatter": [
           {
            "fillpattern": {
             "fillmode": "overlay",
             "size": 10,
             "solidity": 0.2
            },
            "type": "scatter"
           }
          ],
          "scatter3d": [
           {
            "line": {
             "colorbar": {
              "outlinewidth": 0,
              "ticks": ""
             }
            },
            "marker": {
             "colorbar": {
              "outlinewidth": 0,
              "ticks": ""
             }
            },
            "type": "scatter3d"
           }
          ],
          "scattercarpet": [
           {
            "marker": {
             "colorbar": {
              "outlinewidth": 0,
              "ticks": ""
             }
            },
            "type": "scattercarpet"
           }
          ],
          "scattergeo": [
           {
            "marker": {
             "colorbar": {
              "outlinewidth": 0,
              "ticks": ""
             }
            },
            "type": "scattergeo"
           }
          ],
          "scattergl": [
           {
            "marker": {
             "colorbar": {
              "outlinewidth": 0,
              "ticks": ""
             }
            },
            "type": "scattergl"
           }
          ],
          "scattermapbox": [
           {
            "marker": {
             "colorbar": {
              "outlinewidth": 0,
              "ticks": ""
             }
            },
            "type": "scattermapbox"
           }
          ],
          "scatterpolar": [
           {
            "marker": {
             "colorbar": {
              "outlinewidth": 0,
              "ticks": ""
             }
            },
            "type": "scatterpolar"
           }
          ],
          "scatterpolargl": [
           {
            "marker": {
             "colorbar": {
              "outlinewidth": 0,
              "ticks": ""
             }
            },
            "type": "scatterpolargl"
           }
          ],
          "scatterternary": [
           {
            "marker": {
             "colorbar": {
              "outlinewidth": 0,
              "ticks": ""
             }
            },
            "type": "scatterternary"
           }
          ],
          "surface": [
           {
            "colorbar": {
             "outlinewidth": 0,
             "ticks": ""
            },
            "colorscale": [
             [
              0,
              "#0d0887"
             ],
             [
              0.1111111111111111,
              "#46039f"
             ],
             [
              0.2222222222222222,
              "#7201a8"
             ],
             [
              0.3333333333333333,
              "#9c179e"
             ],
             [
              0.4444444444444444,
              "#bd3786"
             ],
             [
              0.5555555555555556,
              "#d8576b"
             ],
             [
              0.6666666666666666,
              "#ed7953"
             ],
             [
              0.7777777777777778,
              "#fb9f3a"
             ],
             [
              0.8888888888888888,
              "#fdca26"
             ],
             [
              1,
              "#f0f921"
             ]
            ],
            "type": "surface"
           }
          ],
          "table": [
           {
            "cells": {
             "fill": {
              "color": "#EBF0F8"
             },
             "line": {
              "color": "white"
             }
            },
            "header": {
             "fill": {
              "color": "#C8D4E3"
             },
             "line": {
              "color": "white"
             }
            },
            "type": "table"
           }
          ]
         },
         "layout": {
          "annotationdefaults": {
           "arrowcolor": "#2a3f5f",
           "arrowhead": 0,
           "arrowwidth": 1
          },
          "autotypenumbers": "strict",
          "coloraxis": {
           "colorbar": {
            "outlinewidth": 0,
            "ticks": ""
           }
          },
          "colorscale": {
           "diverging": [
            [
             0,
             "#8e0152"
            ],
            [
             0.1,
             "#c51b7d"
            ],
            [
             0.2,
             "#de77ae"
            ],
            [
             0.3,
             "#f1b6da"
            ],
            [
             0.4,
             "#fde0ef"
            ],
            [
             0.5,
             "#f7f7f7"
            ],
            [
             0.6,
             "#e6f5d0"
            ],
            [
             0.7,
             "#b8e186"
            ],
            [
             0.8,
             "#7fbc41"
            ],
            [
             0.9,
             "#4d9221"
            ],
            [
             1,
             "#276419"
            ]
           ],
           "sequential": [
            [
             0,
             "#0d0887"
            ],
            [
             0.1111111111111111,
             "#46039f"
            ],
            [
             0.2222222222222222,
             "#7201a8"
            ],
            [
             0.3333333333333333,
             "#9c179e"
            ],
            [
             0.4444444444444444,
             "#bd3786"
            ],
            [
             0.5555555555555556,
             "#d8576b"
            ],
            [
             0.6666666666666666,
             "#ed7953"
            ],
            [
             0.7777777777777778,
             "#fb9f3a"
            ],
            [
             0.8888888888888888,
             "#fdca26"
            ],
            [
             1,
             "#f0f921"
            ]
           ],
           "sequentialminus": [
            [
             0,
             "#0d0887"
            ],
            [
             0.1111111111111111,
             "#46039f"
            ],
            [
             0.2222222222222222,
             "#7201a8"
            ],
            [
             0.3333333333333333,
             "#9c179e"
            ],
            [
             0.4444444444444444,
             "#bd3786"
            ],
            [
             0.5555555555555556,
             "#d8576b"
            ],
            [
             0.6666666666666666,
             "#ed7953"
            ],
            [
             0.7777777777777778,
             "#fb9f3a"
            ],
            [
             0.8888888888888888,
             "#fdca26"
            ],
            [
             1,
             "#f0f921"
            ]
           ]
          },
          "colorway": [
           "#636efa",
           "#EF553B",
           "#00cc96",
           "#ab63fa",
           "#FFA15A",
           "#19d3f3",
           "#FF6692",
           "#B6E880",
           "#FF97FF",
           "#FECB52"
          ],
          "font": {
           "color": "#2a3f5f"
          },
          "geo": {
           "bgcolor": "white",
           "lakecolor": "white",
           "landcolor": "#E5ECF6",
           "showlakes": true,
           "showland": true,
           "subunitcolor": "white"
          },
          "hoverlabel": {
           "align": "left"
          },
          "hovermode": "closest",
          "mapbox": {
           "style": "light"
          },
          "paper_bgcolor": "white",
          "plot_bgcolor": "#E5ECF6",
          "polar": {
           "angularaxis": {
            "gridcolor": "white",
            "linecolor": "white",
            "ticks": ""
           },
           "bgcolor": "#E5ECF6",
           "radialaxis": {
            "gridcolor": "white",
            "linecolor": "white",
            "ticks": ""
           }
          },
          "scene": {
           "xaxis": {
            "backgroundcolor": "#E5ECF6",
            "gridcolor": "white",
            "gridwidth": 2,
            "linecolor": "white",
            "showbackground": true,
            "ticks": "",
            "zerolinecolor": "white"
           },
           "yaxis": {
            "backgroundcolor": "#E5ECF6",
            "gridcolor": "white",
            "gridwidth": 2,
            "linecolor": "white",
            "showbackground": true,
            "ticks": "",
            "zerolinecolor": "white"
           },
           "zaxis": {
            "backgroundcolor": "#E5ECF6",
            "gridcolor": "white",
            "gridwidth": 2,
            "linecolor": "white",
            "showbackground": true,
            "ticks": "",
            "zerolinecolor": "white"
           }
          },
          "shapedefaults": {
           "line": {
            "color": "#2a3f5f"
           }
          },
          "ternary": {
           "aaxis": {
            "gridcolor": "white",
            "linecolor": "white",
            "ticks": ""
           },
           "baxis": {
            "gridcolor": "white",
            "linecolor": "white",
            "ticks": ""
           },
           "bgcolor": "#E5ECF6",
           "caxis": {
            "gridcolor": "white",
            "linecolor": "white",
            "ticks": ""
           }
          },
          "title": {
           "x": 0.05
          },
          "xaxis": {
           "automargin": true,
           "gridcolor": "white",
           "linecolor": "white",
           "ticks": "",
           "title": {
            "standoff": 15
           },
           "zerolinecolor": "white",
           "zerolinewidth": 2
          },
          "yaxis": {
           "automargin": true,
           "gridcolor": "white",
           "linecolor": "white",
           "ticks": "",
           "title": {
            "standoff": 15
           },
           "zerolinecolor": "white",
           "zerolinewidth": 2
          }
         }
        },
        "title": {
         "text": "Count of Anomalies by My Rating"
        },
        "xaxis": {
         "title": {
          "text": "My Rating"
         }
        },
        "yaxis": {
         "tickformat": "0:g",
         "title": {
          "text": "Count of Anomalies"
         },
         "type": "linear"
        }
       }
      }
     },
     "metadata": {},
     "output_type": "display_data"
    }
   ],
   "source": [
    "# Time for a visualization! This is Anomalies (vals of -1 in Anomalies Column) by My Rating\n",
    "chart_data = pd.concat([\n",
    "\tanoms['My Rating'],\n",
    "\tanoms['Anomalies'],\n",
    "], axis=1)\n",
    "chart_data = chart_data.sort_values(['My Rating'])\n",
    "chart_data = chart_data.rename(columns={'My Rating': 'x'})\n",
    "chart_data_count = chart_data.groupby(['x'])[['Anomalies']].count()\n",
    "chart_data_count.columns = ['Anomalies|count']\n",
    "chart_data = chart_data_count.reset_index()\n",
    "chart_data = chart_data.dropna()\n",
    "\n",
    "charts = []\n",
    "charts.append(go.Bar(\n",
    "\tx=chart_data['x'],\n",
    "\ty=chart_data['Anomalies|count']\n",
    "))\n",
    "figure = go.Figure(data=charts, layout=go.Layout({\n",
    "    'barmode': 'group',\n",
    "    'legend': {'orientation': 'h'},\n",
    "    'title': {'text': 'Count of Anomalies by My Rating'},\n",
    "    'xaxis': {'title': {'text': 'My Rating'}},\n",
    "    'yaxis': {'tickformat': '0:g', 'title': {'text': 'Count of Anomalies'}, 'type': 'linear'}\n",
    "}))\n",
    "\n",
    "figure.show()"
   ]
  },
  {
   "cell_type": "code",
   "execution_count": null,
   "metadata": {},
   "outputs": [],
   "source": []
  }
 ],
 "metadata": {
  "kernelspec": {
   "display_name": "Python 3.10.6 64-bit",
   "language": "python",
   "name": "python3"
  },
  "language_info": {
   "codemirror_mode": {
    "name": "ipython",
    "version": 3
   },
   "file_extension": ".py",
   "mimetype": "text/x-python",
   "name": "python",
   "nbconvert_exporter": "python",
   "pygments_lexer": "ipython3",
   "version": "3.10.6"
  },
  "orig_nbformat": 4,
  "vscode": {
   "interpreter": {
    "hash": "677aa2d05f4e9a22a85b022494cb837b2b4dbe7e4c4ae1765326679f067116b5"
   }
  }
 },
 "nbformat": 4,
 "nbformat_minor": 2
}
